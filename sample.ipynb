{
 "cells": [
  {
   "metadata": {},
   "cell_type": "markdown",
   "source": [
    "# This is a sample Jupyter Notebook\n",
    "\n",
    "Below is an example of a code cell. \n",
    "Put your cursor into the cell and press Shift+Enter to execute it and select the next one, or click 'Run Cell' button.\n",
    "\n",
    "Press Double Shift to search everywhere for classes, files, tool windows, actions, and settings.\n",
    "\n",
    "To learn more about Jupyter Notebooks in PyCharm, see [help](https://www.jetbrains.com/help/pycharm/ipython-notebook-support.html).\n",
    "For an overview of PyCharm, go to Help -> Learn IDE features or refer to [our documentation](https://www.jetbrains.com/help/pycharm/getting-started.html)."
   ],
   "id": "8a77807f92f26ee"
  },
  {
   "metadata": {
    "ExecuteTime": {
     "end_time": "2025-04-18T22:10:27.222646Z",
     "start_time": "2025-04-18T22:10:27.206994Z"
    }
   },
   "cell_type": "code",
   "source": [
    "import pandas as pd\n",
    "import matplotlib as mpl\n",
    "import sklearn as skl\n",
    "import numpy as np\n",
    "from sklearn.linear_model import LinearRegression\n",
    "\n",
    "#Are squirrels who climb more often more likely to approach humans? (linear regression?)\n",
    "#Which location has squirrels that are most likely to approach humans? (clustering , N,S,E,W)\n",
    "\n",
    "data = pd.read_csv(\"2018_Central_Park_Squirrel_Census_-_Squirrel_Data_20250418.csv\")\n",
    "print(\"Hello World!\")\n"
   ],
   "id": "fbc121e30a2defb3",
   "outputs": [
    {
     "name": "stdout",
     "output_type": "stream",
     "text": [
      "Hello World!\n"
     ]
    }
   ],
   "execution_count": 27
  },
  {
   "metadata": {
    "ExecuteTime": {
     "end_time": "2025-04-18T22:39:21.218402Z",
     "start_time": "2025-04-18T22:39:21.211053Z"
    }
   },
   "cell_type": "code",
   "source": "##Does elevation impact the secondary fur color of squirrels? (Logistic regression) (predict squirle 2nd hair color)",
   "id": "188a4d08c467f44",
   "outputs": [],
   "execution_count": 47
  },
  {
   "metadata": {
    "ExecuteTime": {
     "end_time": "2025-04-18T22:40:36.258835Z",
     "start_time": "2025-04-18T22:40:36.247636Z"
    }
   },
   "cell_type": "code",
   "source": [
    "#Climbing Squirrles (linear regression. Climb amount (# of times observed climbing) vs chance to approach humans)\n",
    "\n",
    "#x = # of climb\n",
    "#y = #of approach climbing\n",
    "\n",
    "x = data[[\"Climbing\"]]\n",
    "y = data[[\"Approaches\"]] #bools\n",
    "\n",
    "#group = data.groupby(\"Squirrel Number\")\n",
    "#print(group)\n",
    "\n",
    "#chance to appraoch humans :   approach human ammount / total squirrle ammount\n",
    "#climb ammount = total squirrel observed vs climb amount\n",
    "\n",
    "# Aggregate data by number of climbing observations\n",
    "# Group by Climbing, count how many squirrels approached\n",
    "grouped = data.groupby('Climbing')['Approaches'].agg(['sum', 'count']).reset_index()\n",
    "grouped.columns = ['Climbing', 'NumApproaches', 'Total']\n",
    "\n",
    "print(grouped)\n",
    "# Calculate the \"chance to approach\" as a proportion\n",
    "#grouped['ChanceToApproach'] = grouped['NumApproaches'] / grouped['Total']\n",
    "\n",
    "# Use 'Total' (number observed climbing or not) as the independent variable\n",
    "#x = grouped[['Total']]  # must be 2D for sklearn\n",
    "#y = grouped['ChanceToApproach']\n",
    "\n",
    "print(x)\n",
    "print(y)\n",
    "#for i in range(len(data)):\n",
    "\n",
    "#print(x)\n",
    "#print(y)\n",
    "\n",
    "#model = LinearRegression()\n",
    "#model.fit(x, y)\n",
    "\n",
    "# Print coefficients\n",
    "#print(\"Coefficient:\", model.coef_[0])\n",
    "#print(\"Intercept:\", model.intercept_)\n",
    "\n",
    "model = LinearRegression().fit(x,y)\n",
    "\n",
    "coef = round(float(model.coef_), 2)\n",
    "intercept = round(float(model.intercept_), 2)\n",
    "\n",
    "print(\"Linear equation: y=\", coef, \"x+\", intercept)\n",
    "\n",
    "#predict = 43\n",
    "\n"
   ],
   "id": "f6c47e03f548a47",
   "outputs": [
    {
     "name": "stdout",
     "output_type": "stream",
     "text": [
      "   Climbing  NumApproaches  Total\n",
      "0     False            151   2365\n",
      "1      True             27    658\n",
      "      Climbing\n",
      "0        False\n",
      "1        False\n",
      "2        False\n",
      "3        False\n",
      "4        False\n",
      "...        ...\n",
      "3018     False\n",
      "3019     False\n",
      "3020     False\n",
      "3021     False\n",
      "3022     False\n",
      "\n",
      "[3023 rows x 1 columns]\n",
      "      Approaches\n",
      "0          False\n",
      "1          False\n",
      "2          False\n",
      "3          False\n",
      "4          False\n",
      "...          ...\n",
      "3018       False\n",
      "3019       False\n",
      "3020       False\n",
      "3021       False\n",
      "3022        True\n",
      "\n",
      "[3023 rows x 1 columns]\n",
      "Linear equation: y= -0.02 x+ 0.06\n"
     ]
    },
    {
     "name": "stderr",
     "output_type": "stream",
     "text": [
      "C:\\Users\\476275\\AppData\\Local\\Temp\\ipykernel_12964\\2226201627.py:44: DeprecationWarning: Conversion of an array with ndim > 0 to a scalar is deprecated, and will error in future. Ensure you extract a single element from your array before performing this operation. (Deprecated NumPy 1.25.)\n",
      "  coef = round(float(model.coef_), 2)\n",
      "C:\\Users\\476275\\AppData\\Local\\Temp\\ipykernel_12964\\2226201627.py:45: DeprecationWarning: Conversion of an array with ndim > 0 to a scalar is deprecated, and will error in future. Ensure you extract a single element from your array before performing this operation. (Deprecated NumPy 1.25.)\n",
      "  intercept = round(float(model.intercept_), 2)\n"
     ]
    }
   ],
   "execution_count": 50
  },
  {
   "metadata": {
    "ExecuteTime": {
     "end_time": "2025-04-18T22:25:21.434989Z",
     "start_time": "2025-04-18T22:25:21.431674Z"
    }
   },
   "cell_type": "code",
   "source": "#Location",
   "id": "83e6bfbab71be1b4",
   "outputs": [],
   "execution_count": 42
  }
 ],
 "metadata": {
  "kernelspec": {
   "display_name": "Python 3",
   "language": "python",
   "name": "python3"
  },
  "language_info": {
   "codemirror_mode": {
    "name": "ipython",
    "version": 2
   },
   "file_extension": ".py",
   "mimetype": "text/x-python",
   "name": "python",
   "nbconvert_exporter": "python",
   "pygments_lexer": "ipython2",
   "version": "2.7.6"
  }
 },
 "nbformat": 4,
 "nbformat_minor": 5
}
